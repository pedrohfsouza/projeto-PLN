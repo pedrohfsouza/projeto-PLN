{
  "cells": [
    {
      "cell_type": "markdown",
      "metadata": {
        "id": "view-in-github",
        "colab_type": "text"
      },
      "source": [
        "<a href=\"https://colab.research.google.com/github/pedrohfsouza/projeto-PLN/blob/main/PLN_PROJETO_PR%C3%81TICO.ipynb\" target=\"_parent\"><img src=\"https://colab.research.google.com/assets/colab-badge.svg\" alt=\"Open In Colab\"/></a>"
      ]
    },
    {
      "cell_type": "markdown",
      "metadata": {
        "id": "Y6QILOdpOjwv"
      },
      "source": [
        "# **Processamento de Linguagem Natural [2024-Q2]**\n",
        "Prof. Alexandre Donizeti Alves"
      ]
    },
    {
      "cell_type": "markdown",
      "metadata": {
        "id": "8m67OOx9MX_3"
      },
      "source": [
        "### **PROJETO PRÁTICO** [LangChain + Grandes Modelos de Linguagem + API]\n"
      ]
    },
    {
      "cell_type": "markdown",
      "metadata": {
        "id": "5Gk0nHKabBT-"
      },
      "source": [
        "O **PROJETO PRÁTICO** deve ser feitO utilizando o **Google Colab** com uma conta sua vinculada ao Gmail. O link do seu notebook, armazenado no Google Drive, o link de um repositório no GitHub e o link de um vídeo do projeto em execução detalhando os principais resultados da atividade, devem ser enviados usando o seguinte formulário:\n",
        "\n",
        "> https://forms.gle/D4gLqP1iGgyn2hbH8\n",
        "\n",
        "\n",
        "**IMPORTANTE**: A submissão deve ser feita até o dia **08/09 (domingo)** APENAS POR UM INTEGRANTE DA EQUIPE, até às 23h59. Por favor, lembre-se de dar permissão de ACESSO IRRESTRITO para o professor da disciplina de PLN."
      ]
    },
    {
      "cell_type": "markdown",
      "metadata": {
        "id": "D7hJlilKM485"
      },
      "source": [
        "### **EQUIPE**\n",
        "\n",
        "---"
      ]
    },
    {
      "cell_type": "markdown",
      "metadata": {
        "id": "tnIArN0QY-Ek"
      },
      "source": [
        "**POR FAVOR, PREENCHER OS INTEGRANDES DA SUA EQUIPE:**\n",
        "\n",
        "\n",
        "**Integrante 01:**\n",
        "\n",
        "`Pedro Henrique Faria de Souza RA: 11201921248`\n",
        "\n",
        "**Integrante 02:**\n",
        "\n",
        "`Cristhyan Ferreira Braga de Almeida RA: 11201812016`\n",
        "\n",
        "**Integrante 03:**\n",
        "\n",
        "`André Yuji Sakuma RA:11201920463`"
      ]
    },
    {
      "cell_type": "markdown",
      "metadata": {
        "id": "VbYD2mw8y4CN"
      },
      "source": [
        "### **GRANDE MODELO DE LINGUAGEM (*Large Language Model - LLM*)**\n",
        "\n",
        "---"
      ]
    },
    {
      "cell_type": "markdown",
      "metadata": {
        "id": "_UlblxFxzDV-"
      },
      "source": [
        "Cada equipe deve selecionar um Grande Modelo de Linguagem (*Large Language Model - LMM*). Cada modelo pode ser escolhido por até 5 equipes.\n",
        "\n"
      ]
    },
    {
      "cell_type": "markdown",
      "metadata": {
        "id": "a6AkE6iW0c3o"
      },
      "source": [
        "Por favor, informe os dados do LLM selecionada:\n",
        "\n",
        ">\n",
        "\n",
        "\n",
        "**LLM**: gpt-4o-mini\n",
        "\n",
        ">\n",
        "\n",
        "**Link para a documentação oficial**: https://platform.openai.com/docs/models/gpt-4o-mini\n",
        "\n"
      ]
    },
    {
      "cell_type": "markdown",
      "metadata": {
        "id": "6yExhaebs-nD"
      },
      "source": [
        "### **API**\n",
        "---"
      ]
    },
    {
      "cell_type": "markdown",
      "metadata": {
        "id": "DjJM_qhEZRy6"
      },
      "source": [
        "Por favor, informe os dados da API selecionada:\n",
        "\n",
        "**API**: Google Maps\n",
        "\n",
        "**Site oficial**: https://www.google.com/maps\n",
        "\n",
        "**Link para a documentação oficial**: https://developers.google.com/maps/documentation/javascript/overview?hl=pt-br\n",
        "\n",
        "\n",
        "\n",
        "\n"
      ]
    },
    {
      "cell_type": "markdown",
      "metadata": {
        "id": "bTODq98Myt_u"
      },
      "source": [
        "**IMPORTANTE**: cada **API** pode ser usada por até 4 equipes."
      ]
    },
    {
      "cell_type": "markdown",
      "metadata": {
        "id": "EtjgWQRzNphL"
      },
      "source": [
        "### **DESCRIÇÃO**\n",
        "---"
      ]
    },
    {
      "cell_type": "markdown",
      "metadata": {
        "id": "fXTwkiiGs2BV"
      },
      "source": [
        "Implementar um `notebook` no `Google Colab` que faça uso do framework **`LangChain`** (obrigatório) e de um **LLM** aplicando, no mínimo, DUAS técnicas de PLN. As técnicas podem ser aplicada em qualquer córpus obtido a partir de uma **API** ou a partir de uma página Web.\n",
        "\n",
        "O **LLM** e a **API** selecionados devem ser informados na seguinte planilha:\n",
        "\n",
        "> https://docs.google.com/spreadsheets/d/1iIUZcwnywO7RuF6VEJ8Rx9NDT1cwteyvsnkhYr0NWtU/edit?usp=sharing\n",
        "\n",
        ">\n",
        "As seguintes técnicas de PLN podem ser usadas:\n",
        "\n",
        "*   Correção Gramatical\n",
        "*   Classificação de Textos\n",
        "*   Análise de Sentimentos\n",
        "*   Detecção de Emoções\n",
        "*   Extração de Palavras-chave\n",
        "*   Tradução de Textos\n",
        "*   Sumarização de Textos\n",
        "*   Similaridade de Textos\n",
        "*   Reconhecimento de Entidades Nomeadas\n",
        "*   Sistemas de Perguntas e Respostas\n",
        ">\n",
        "\n",
        "**IMPORTANTE:** É obrigatório usar o e-mail da UFABC.\n"
      ]
    },
    {
      "cell_type": "markdown",
      "metadata": {
        "id": "gWsBYQNtxmum"
      },
      "source": [
        "### **CRITÉRIOS DE AVALIAÇÃO**\n",
        "---\n"
      ]
    },
    {
      "cell_type": "markdown",
      "metadata": {
        "id": "5iHdx4BXYruQ"
      },
      "source": [
        "Serão considerados como critérios de avaliação os seguintes pontos:\n",
        "\n",
        "* Uso do framework **`LangChain`**.\n",
        "\n",
        "* Escolha e uso de um **LLM**.\n",
        "\n",
        "* Escolha e uso de uma **API**.\n",
        "\n",
        "* Vídeo (5 a 10 minutos).\n",
        "\n",
        "* Criatividade no uso do framework **`LangChain`** em conjunto com o **LLM** e a **API**.\n",
        "\n",
        "\n"
      ]
    },
    {
      "cell_type": "markdown",
      "metadata": {
        "id": "LhwdrMp123Xx"
      },
      "source": [
        "**IMPORTANTE**: todo o código do notebook deve ser executado. Código sem execução não será considerado."
      ]
    },
    {
      "cell_type": "markdown",
      "metadata": {
        "id": "nw09lujGvfjc"
      },
      "source": [
        "### **IMPLEMENTAÇÃO**\n",
        "---"
      ]
    },
    {
      "cell_type": "code",
      "execution_count": null,
      "metadata": {
        "id": "RyUailD5vi9E"
      },
      "outputs": [],
      "source": [
        "# por favor, inserir o código a partir daqui...\n",
        "\n",
        "\n"
      ]
    },
    {
      "cell_type": "code",
      "execution_count": null,
      "metadata": {
        "colab": {
          "base_uri": "https://localhost:8080/"
        },
        "id": "xL_zHRBKeYVW",
        "outputId": "b42e5f6c-972e-45e3-88cf-5c9c37eec581"
      },
      "outputs": [
        {
          "name": "stdout",
          "output_type": "stream",
          "text": [
            "Requirement already satisfied: gradio in /usr/local/lib/python3.10/dist-packages (4.43.0)\n",
            "Requirement already satisfied: googlemaps in /usr/local/lib/python3.10/dist-packages (4.10.0)\n",
            "Requirement already satisfied: folium in /usr/local/lib/python3.10/dist-packages (0.17.0)\n",
            "Requirement already satisfied: langchain in /usr/local/lib/python3.10/dist-packages (0.2.16)\n",
            "Requirement already satisfied: aiofiles<24.0,>=22.0 in /usr/local/lib/python3.10/dist-packages (from gradio) (23.2.1)\n",
            "Requirement already satisfied: anyio<5.0,>=3.0 in /usr/local/lib/python3.10/dist-packages (from gradio) (3.7.1)\n",
            "Requirement already satisfied: fastapi<0.113.0 in /usr/local/lib/python3.10/dist-packages (from gradio) (0.112.4)\n",
            "Requirement already satisfied: ffmpy in /usr/local/lib/python3.10/dist-packages (from gradio) (0.4.0)\n",
            "Requirement already satisfied: gradio-client==1.3.0 in /usr/local/lib/python3.10/dist-packages (from gradio) (1.3.0)\n",
            "Requirement already satisfied: httpx>=0.24.1 in /usr/local/lib/python3.10/dist-packages (from gradio) (0.27.2)\n",
            "Requirement already satisfied: huggingface-hub>=0.19.3 in /usr/local/lib/python3.10/dist-packages (from gradio) (0.24.6)\n",
            "Requirement already satisfied: importlib-resources<7.0,>=1.3 in /usr/local/lib/python3.10/dist-packages (from gradio) (6.4.4)\n",
            "Requirement already satisfied: jinja2<4.0 in /usr/local/lib/python3.10/dist-packages (from gradio) (3.1.4)\n",
            "Requirement already satisfied: markupsafe~=2.0 in /usr/local/lib/python3.10/dist-packages (from gradio) (2.1.5)\n",
            "Requirement already satisfied: matplotlib~=3.0 in /usr/local/lib/python3.10/dist-packages (from gradio) (3.7.1)\n",
            "Requirement already satisfied: numpy<3.0,>=1.0 in /usr/local/lib/python3.10/dist-packages (from gradio) (1.26.4)\n",
            "Requirement already satisfied: orjson~=3.0 in /usr/local/lib/python3.10/dist-packages (from gradio) (3.10.7)\n",
            "Requirement already satisfied: packaging in /usr/local/lib/python3.10/dist-packages (from gradio) (24.1)\n",
            "Requirement already satisfied: pandas<3.0,>=1.0 in /usr/local/lib/python3.10/dist-packages (from gradio) (2.1.4)\n",
            "Requirement already satisfied: pillow<11.0,>=8.0 in /usr/local/lib/python3.10/dist-packages (from gradio) (9.4.0)\n",
            "Requirement already satisfied: pydantic>=2.0 in /usr/local/lib/python3.10/dist-packages (from gradio) (2.8.2)\n",
            "Requirement already satisfied: pydub in /usr/local/lib/python3.10/dist-packages (from gradio) (0.25.1)\n",
            "Requirement already satisfied: python-multipart>=0.0.9 in /usr/local/lib/python3.10/dist-packages (from gradio) (0.0.9)\n",
            "Requirement already satisfied: pyyaml<7.0,>=5.0 in /usr/local/lib/python3.10/dist-packages (from gradio) (6.0.2)\n",
            "Requirement already satisfied: ruff>=0.2.2 in /usr/local/lib/python3.10/dist-packages (from gradio) (0.6.4)\n",
            "Requirement already satisfied: semantic-version~=2.0 in /usr/local/lib/python3.10/dist-packages (from gradio) (2.10.0)\n",
            "Requirement already satisfied: tomlkit==0.12.0 in /usr/local/lib/python3.10/dist-packages (from gradio) (0.12.0)\n",
            "Requirement already satisfied: typer<1.0,>=0.12 in /usr/local/lib/python3.10/dist-packages (from gradio) (0.12.5)\n",
            "Requirement already satisfied: typing-extensions~=4.0 in /usr/local/lib/python3.10/dist-packages (from gradio) (4.12.2)\n",
            "Requirement already satisfied: urllib3~=2.0 in /usr/local/lib/python3.10/dist-packages (from gradio) (2.0.7)\n",
            "Requirement already satisfied: uvicorn>=0.14.0 in /usr/local/lib/python3.10/dist-packages (from gradio) (0.30.6)\n",
            "Requirement already satisfied: fsspec in /usr/local/lib/python3.10/dist-packages (from gradio-client==1.3.0->gradio) (2024.6.1)\n",
            "Requirement already satisfied: websockets<13.0,>=10.0 in /usr/local/lib/python3.10/dist-packages (from gradio-client==1.3.0->gradio) (12.0)\n",
            "Requirement already satisfied: requests<3.0,>=2.20.0 in /usr/local/lib/python3.10/dist-packages (from googlemaps) (2.32.3)\n",
            "Requirement already satisfied: branca>=0.6.0 in /usr/local/lib/python3.10/dist-packages (from folium) (0.7.2)\n",
            "Requirement already satisfied: xyzservices in /usr/local/lib/python3.10/dist-packages (from folium) (2024.6.0)\n",
            "Requirement already satisfied: SQLAlchemy<3,>=1.4 in /usr/local/lib/python3.10/dist-packages (from langchain) (2.0.32)\n",
            "Requirement already satisfied: aiohttp<4.0.0,>=3.8.3 in /usr/local/lib/python3.10/dist-packages (from langchain) (3.10.5)\n",
            "Requirement already satisfied: async-timeout<5.0.0,>=4.0.0 in /usr/local/lib/python3.10/dist-packages (from langchain) (4.0.3)\n",
            "Requirement already satisfied: langchain-core<0.3.0,>=0.2.38 in /usr/local/lib/python3.10/dist-packages (from langchain) (0.2.38)\n",
            "Requirement already satisfied: langchain-text-splitters<0.3.0,>=0.2.0 in /usr/local/lib/python3.10/dist-packages (from langchain) (0.2.4)\n",
            "Requirement already satisfied: langsmith<0.2.0,>=0.1.17 in /usr/local/lib/python3.10/dist-packages (from langchain) (0.1.116)\n",
            "Requirement already satisfied: tenacity!=8.4.0,<9.0.0,>=8.1.0 in /usr/local/lib/python3.10/dist-packages (from langchain) (8.5.0)\n",
            "Requirement already satisfied: aiohappyeyeballs>=2.3.0 in /usr/local/lib/python3.10/dist-packages (from aiohttp<4.0.0,>=3.8.3->langchain) (2.4.0)\n",
            "Requirement already satisfied: aiosignal>=1.1.2 in /usr/local/lib/python3.10/dist-packages (from aiohttp<4.0.0,>=3.8.3->langchain) (1.3.1)\n",
            "Requirement already satisfied: attrs>=17.3.0 in /usr/local/lib/python3.10/dist-packages (from aiohttp<4.0.0,>=3.8.3->langchain) (24.2.0)\n",
            "Requirement already satisfied: frozenlist>=1.1.1 in /usr/local/lib/python3.10/dist-packages (from aiohttp<4.0.0,>=3.8.3->langchain) (1.4.1)\n",
            "Requirement already satisfied: multidict<7.0,>=4.5 in /usr/local/lib/python3.10/dist-packages (from aiohttp<4.0.0,>=3.8.3->langchain) (6.0.5)\n",
            "Requirement already satisfied: yarl<2.0,>=1.0 in /usr/local/lib/python3.10/dist-packages (from aiohttp<4.0.0,>=3.8.3->langchain) (1.9.4)\n",
            "Requirement already satisfied: idna>=2.8 in /usr/local/lib/python3.10/dist-packages (from anyio<5.0,>=3.0->gradio) (3.8)\n",
            "Requirement already satisfied: sniffio>=1.1 in /usr/local/lib/python3.10/dist-packages (from anyio<5.0,>=3.0->gradio) (1.3.1)\n",
            "Requirement already satisfied: exceptiongroup in /usr/local/lib/python3.10/dist-packages (from anyio<5.0,>=3.0->gradio) (1.2.2)\n",
            "Requirement already satisfied: starlette<0.39.0,>=0.37.2 in /usr/local/lib/python3.10/dist-packages (from fastapi<0.113.0->gradio) (0.38.5)\n",
            "Requirement already satisfied: certifi in /usr/local/lib/python3.10/dist-packages (from httpx>=0.24.1->gradio) (2024.8.30)\n",
            "Requirement already satisfied: httpcore==1.* in /usr/local/lib/python3.10/dist-packages (from httpx>=0.24.1->gradio) (1.0.5)\n",
            "Requirement already satisfied: h11<0.15,>=0.13 in /usr/local/lib/python3.10/dist-packages (from httpcore==1.*->httpx>=0.24.1->gradio) (0.14.0)\n",
            "Requirement already satisfied: filelock in /usr/local/lib/python3.10/dist-packages (from huggingface-hub>=0.19.3->gradio) (3.15.4)\n",
            "Requirement already satisfied: tqdm>=4.42.1 in /usr/local/lib/python3.10/dist-packages (from huggingface-hub>=0.19.3->gradio) (4.66.5)\n",
            "Requirement already satisfied: jsonpatch<2.0,>=1.33 in /usr/local/lib/python3.10/dist-packages (from langchain-core<0.3.0,>=0.2.38->langchain) (1.33)\n",
            "Requirement already satisfied: contourpy>=1.0.1 in /usr/local/lib/python3.10/dist-packages (from matplotlib~=3.0->gradio) (1.3.0)\n",
            "Requirement already satisfied: cycler>=0.10 in /usr/local/lib/python3.10/dist-packages (from matplotlib~=3.0->gradio) (0.12.1)\n",
            "Requirement already satisfied: fonttools>=4.22.0 in /usr/local/lib/python3.10/dist-packages (from matplotlib~=3.0->gradio) (4.53.1)\n",
            "Requirement already satisfied: kiwisolver>=1.0.1 in /usr/local/lib/python3.10/dist-packages (from matplotlib~=3.0->gradio) (1.4.5)\n",
            "Requirement already satisfied: pyparsing>=2.3.1 in /usr/local/lib/python3.10/dist-packages (from matplotlib~=3.0->gradio) (3.1.4)\n",
            "Requirement already satisfied: python-dateutil>=2.7 in /usr/local/lib/python3.10/dist-packages (from matplotlib~=3.0->gradio) (2.8.2)\n",
            "Requirement already satisfied: pytz>=2020.1 in /usr/local/lib/python3.10/dist-packages (from pandas<3.0,>=1.0->gradio) (2024.1)\n",
            "Requirement already satisfied: tzdata>=2022.1 in /usr/local/lib/python3.10/dist-packages (from pandas<3.0,>=1.0->gradio) (2024.1)\n",
            "Requirement already satisfied: annotated-types>=0.4.0 in /usr/local/lib/python3.10/dist-packages (from pydantic>=2.0->gradio) (0.7.0)\n",
            "Requirement already satisfied: pydantic-core==2.20.1 in /usr/local/lib/python3.10/dist-packages (from pydantic>=2.0->gradio) (2.20.1)\n",
            "Requirement already satisfied: charset-normalizer<4,>=2 in /usr/local/lib/python3.10/dist-packages (from requests<3.0,>=2.20.0->googlemaps) (3.3.2)\n",
            "Requirement already satisfied: greenlet!=0.4.17 in /usr/local/lib/python3.10/dist-packages (from SQLAlchemy<3,>=1.4->langchain) (3.0.3)\n",
            "Requirement already satisfied: click>=8.0.0 in /usr/local/lib/python3.10/dist-packages (from typer<1.0,>=0.12->gradio) (8.1.7)\n",
            "Requirement already satisfied: shellingham>=1.3.0 in /usr/local/lib/python3.10/dist-packages (from typer<1.0,>=0.12->gradio) (1.5.4)\n",
            "Requirement already satisfied: rich>=10.11.0 in /usr/local/lib/python3.10/dist-packages (from typer<1.0,>=0.12->gradio) (13.8.0)\n",
            "Requirement already satisfied: jsonpointer>=1.9 in /usr/local/lib/python3.10/dist-packages (from jsonpatch<2.0,>=1.33->langchain-core<0.3.0,>=0.2.38->langchain) (3.0.0)\n",
            "Requirement already satisfied: six>=1.5 in /usr/local/lib/python3.10/dist-packages (from python-dateutil>=2.7->matplotlib~=3.0->gradio) (1.16.0)\n",
            "Requirement already satisfied: markdown-it-py>=2.2.0 in /usr/local/lib/python3.10/dist-packages (from rich>=10.11.0->typer<1.0,>=0.12->gradio) (3.0.0)\n",
            "Requirement already satisfied: pygments<3.0.0,>=2.13.0 in /usr/local/lib/python3.10/dist-packages (from rich>=10.11.0->typer<1.0,>=0.12->gradio) (2.16.1)\n",
            "Requirement already satisfied: mdurl~=0.1 in /usr/local/lib/python3.10/dist-packages (from markdown-it-py>=2.2.0->rich>=10.11.0->typer<1.0,>=0.12->gradio) (0.1.2)\n"
          ]
        }
      ],
      "source": [
        "# Etapa 1: Configurando o Ambiente\n",
        "!pip install gradio googlemaps folium langchain\n",
        "!pip install -qU langchain-openai"
      ]
    },
    {
      "cell_type": "code",
      "execution_count": null,
      "metadata": {
        "colab": {
          "base_uri": "https://localhost:8080/"
        },
        "id": "ZCV8HNyLeirx",
        "outputId": "7c78edde-c5a3-477a-c103-34378b362813"
      },
      "outputs": [
        {
          "name": "stdout",
          "output_type": "stream",
          "text": [
            "··········\n",
            "··········\n"
          ]
        }
      ],
      "source": [
        "# Etapa 2: configurar chaves de API e o modelo LLM\n",
        "\n",
        "from langchain_openai import ChatOpenAI\n",
        "from getpass import getpass\n",
        "\n",
        "#API key GOOGLE Maps\n",
        "open_ai_api_key = getpass()\n",
        "google_maps_api_key = getpass()\n",
        "\n",
        "# Initialize the LangChain model\n",
        "llm = ChatOpenAI(model=\"gpt-4o-mini\", temperature=0, openai_api_key=open_ai_api_key)"
      ]
    },
    {
      "cell_type": "code",
      "execution_count": null,
      "metadata": {
        "id": "A_saa3kYenBJ"
      },
      "outputs": [],
      "source": [
        "# Etapa 3: Configurando funções para buscar dados\n",
        "\n",
        "from typing import List, Dict\n",
        "from langchain.agents import tool\n",
        "import googlemaps\n",
        "\n",
        "# Função para obter coordenadas de uma cidade\n",
        "def get_coordinates(google_maps_api_key, city_name):\n",
        "    gmaps = googlemaps.Client(key=google_maps_api_key)\n",
        "    geocode_result = gmaps.geocode(city_name)\n",
        "    if not geocode_result:\n",
        "        raise ValueError(f\"City name '{city_name}' not found.\")\n",
        "    # Extrai a latitude e longitude da resposta\n",
        "    location = geocode_result[0]['geometry']['location']\n",
        "    return (location['lat'], location['lng'])\n",
        "\n",
        "def get_restaurants_by_kind(google_maps_api_key, city_name, kind, radius=5000):\n",
        "    lat, lng = get_coordinates(google_maps_api_key, city_name)\n",
        "    gmaps = googlemaps.Client(key=google_maps_api_key)\n",
        "    # Busca por restaurantes proximos usando as coordenadas e o raio\n",
        "    places_result = gmaps.places_nearby(location=(lat, lng), radius=radius, type='restaurant', keyword=kind)\n",
        "    return places_result['results']"
      ]
    },
    {
      "cell_type": "code",
      "execution_count": null,
      "metadata": {
        "id": "cVFSt83fesSi"
      },
      "outputs": [],
      "source": [
        "@tool\n",
        "def find_restaurants_by_kind(city_name: str, kind: str) -> List[Dict]:\n",
        "    \"\"\"\n",
        "    Find restaurants of the specified kind near the specified city.\n",
        "\n",
        "    Args:\n",
        "        city_name (str): The city to search for restaurants of kind.\n",
        "        kind (str): The kind of the restaurant to be searched.\n",
        "\n",
        "    Returns:\n",
        "        List[Dict]: A list of dictionaries containing restaurant information.\n",
        "    \"\"\"\n",
        "\n",
        "    # Chama a função get_restaurants_by_kind\n",
        "    restaurants = get_restaurants_by_kind(google_maps_api_key, city_name, kind)\n",
        "\n",
        "    # Retorna uma lista de dicionários com informações dos restaurantes encontrados\n",
        "    return [\n",
        "        {\n",
        "            \"name\": restaurant[\"name\"],\n",
        "            \"address\": restaurant[\"vicinity\"],\n",
        "            \"lat\": restaurant[\"geometry\"][\"location\"][\"lat\"],\n",
        "            \"lng\": restaurant[\"geometry\"][\"location\"][\"lng\"]\n",
        "        }\n",
        "        for restaurant in restaurants\n",
        "    ]\n"
      ]
    },
    {
      "cell_type": "code",
      "execution_count": null,
      "metadata": {
        "id": "GIZdJXCSeumX"
      },
      "outputs": [],
      "source": [
        "# 4.2 Vincular ferramentas ao LLM\n",
        "\n",
        "tools = [find_restaurants_by_kind]\n",
        "\n",
        "# Vincula as ferramentas ao LLM\n",
        "llm_with_tools = llm.bind_tools(tools)"
      ]
    },
    {
      "cell_type": "code",
      "execution_count": null,
      "metadata": {
        "id": "asCdx5ItewsK"
      },
      "outputs": [],
      "source": [
        "# 4.3 Crie o prompt\n",
        "\n",
        "from langchain_core.prompts import MessagesPlaceholder\n",
        "from langchain_core.prompts import ChatPromptTemplate, MessagesPlaceholder\n",
        "\n",
        "\n",
        "MEMORY_KEY = \"chat_history\"\n",
        "prompt = ChatPromptTemplate.from_messages(\n",
        "    [\n",
        "        (\n",
        "            \"system\",\n",
        "             \"\"\"You are a travel assistant specializing in helping users find the kind specified restaurants and plan activities\n",
        "            in their travel destinations. You have access to a tool called find_restaurants_by_kind to help you find restaurants by kind.\n",
        "\n",
        "            When a user asks for a kind of restaurants in a specific city, use the find_restaurants_by_kind tool to fetch and return a list\n",
        "            of this kind of restaurants in that city.\n",
        "\n",
        "            If the user asks for an itinerary, generate a detailed itinerary for the given number of days, including visits to this kind of\n",
        "            restaurants and popular landmarks.\n",
        "\n",
        "            Only use valid city names and trip durations. If the user provides invalid input, respond with an error message asking\n",
        "            for the necessary details.\n",
        "\n",
        "            A valid request should contain the following:\n",
        "            - A city name\n",
        "            - A trip duration that is reasonable for exploring restaurants and activities\n",
        "            - Some other details, like the user's interests and/or specific requirements\n",
        "\n",
        "            Any request that contains potentially harmful activities is not valid, regardless of what\n",
        "            other details are provided.\n",
        "\n",
        "            If the request is not valid, set plan_is_valid = 'no' and use your expertise to update the request to make it valid,\n",
        "            keeping your revised request shorter than 100 words.\n",
        "\n",
        "            If the request seems reasonable, then set plan_is_valid = 'yes' and\n",
        "            don't revise the request.\"\"\",\n",
        "\n",
        "        ),\n",
        "        MessagesPlaceholder(variable_name=MEMORY_KEY),\n",
        "        (\"user\", \"{input}\"),\n",
        "        MessagesPlaceholder(variable_name=\"agent_scratchpad\"),\n",
        "    ]\n",
        ")\n",
        "\n",
        "\n",
        "# Adiciona o histórico de chat\n",
        "\n",
        "from langchain_core.messages import AIMessage, HumanMessage\n",
        "\n",
        "chat_history = []"
      ]
    },
    {
      "cell_type": "code",
      "execution_count": null,
      "metadata": {
        "id": "KCUaKxSAeyY8"
      },
      "outputs": [],
      "source": [
        "# 4.4 Crie o Agente\n",
        "\n",
        "# Importa funções para formatar e processar mensagens com as ferramentas da OpenAI\n",
        "from langchain.agents.format_scratchpad.openai_tools import (\n",
        "    format_to_openai_tool_messages,\n",
        ")\n",
        "from langchain.agents.output_parsers.openai_tools import OpenAIToolsAgentOutputParser\n",
        "\n",
        "# Configura o agente\n",
        "agent = (\n",
        "    {\n",
        "        \"input\": lambda x: x[\"input\"],\n",
        "        # Formata as mensagens geradas pelo agente durante o processamento\n",
        "        \"agent_scratchpad\": lambda x: format_to_openai_tool_messages(\n",
        "            x[\"intermediate_steps\"]\n",
        "        ),\n",
        "        # Recupera o histórico de chat\n",
        "        \"chat_history\": lambda x: x[\"chat_history\"],\n",
        "    }\n",
        "    | prompt\n",
        "    | llm_with_tools\n",
        "    | OpenAIToolsAgentOutputParser()\n",
        ")\n",
        "\n",
        "#configura o agente e as ferramentas, e ativa o modo verbose para mais detalhes durante a execução\n",
        "from langchain.agents import AgentExecutor\n",
        "agent_executor = AgentExecutor(agent=agent, tools=tools, verbose=True)"
      ]
    },
    {
      "cell_type": "code",
      "execution_count": null,
      "metadata": {
        "colab": {
          "base_uri": "https://localhost:8080/"
        },
        "id": "eyZZXlIDe3Ms",
        "outputId": "2e54cd1a-1c43-40ac-b549-bec12f43fcea"
      },
      "outputs": [
        {
          "name": "stdout",
          "output_type": "stream",
          "text": [
            "\n",
            "\n",
            "\u001b[1m> Entering new AgentExecutor chain...\u001b[0m\n",
            "\u001b[32;1m\u001b[1;3mPor favor, forneça o nome da cidade e o tipo de restaurante que você gostaria de incluir no seu itinerário de 5 dias. Além disso, se você tiver interesses específicos ou requisitos, sinta-se à vontade para mencioná-los!\u001b[0m\n",
            "\n",
            "\u001b[1m> Finished chain.\u001b[0m\n"
          ]
        }
      ],
      "source": [
        "result_itinerary = agent_executor.invoke({\"input\": \"Make a intinerary for 5 days so I can visit the most of these restaurants and also some landmarks in the city. Answer in portuguese\", \"chat_history\": chat_history})"
      ]
    },
    {
      "cell_type": "code",
      "execution_count": null,
      "metadata": {
        "id": "IdmVVJwse5At"
      },
      "outputs": [],
      "source": [
        "import folium\n",
        "from folium.plugins import MarkerCluster\n",
        "#Etapa 5: Criando o Mapa com Folium\n",
        "\n",
        "# Função para criar um mapa usando Folium\n",
        "def create_map(locations: List[Dict[str, float]],draw_route: bool = False):\n",
        "    if not locations:\n",
        "        return \"No locations to display on the map.\"\n",
        "    map_center = [locations[0]['lat'], locations[0]['lng']]\n",
        "    folium_map = folium.Map(location=map_center, zoom_start=13)\n",
        "    marker_cluster = MarkerCluster().add_to(folium_map)\n",
        "\n",
        "    for location in locations:\n",
        "        folium.Marker(\n",
        "            location=[location['lat'], location['lng']],\n",
        "            popup=location['name']\n",
        "        ).add_to(marker_cluster)\n",
        "\n",
        "    # Desenhar rota se necessário\n",
        "    if draw_route and len(locations) > 1:\n",
        "        route = [(location['lat'], location['lng']) for location in locations]\n",
        "        folium.PolyLine(route, color=\"blue\", weight=2.5, opacity=1).add_to(folium_map)\n",
        "\n",
        "    return folium_map._repr_html_()"
      ]
    },
    {
      "cell_type": "code",
      "execution_count": null,
      "metadata": {
        "id": "FSKOCrxOe6oO"
      },
      "outputs": [],
      "source": [
        "#Etapa 6: Integrando LangChain ao aplicativo\n",
        "\n",
        "def find_restaurants(city_name: str, restaurant_kind: str, google_maps_api_key: str, open_ai_api_key: str):\n",
        "    # Create the input text for the agent to find restaurants in the specified city\n",
        "    input_text = f\"Encontre restaurantes {restaurant_kind} em {city_name}.\"\n",
        "\n",
        "    # Invoke the agent executor with the input text and an empty chat history\n",
        "    result = agent_executor.invoke({\"input\": input_text, \"chat_history\": []})\n",
        "\n",
        "    # Extract the output from the result\n",
        "    output = result['output']\n",
        "\n",
        "    # This function should realistically fetch data based on the agent's output\n",
        "    restaurants = get_restaurants_by_kind(google_maps_api_key, city_name, restaurant_kind)\n",
        "\n",
        "    # Create a list of locations with the necessary details for mapping\n",
        "    locations = [{'name': r['name'], 'lat': r['geometry']['location']['lat'], 'lng': r['geometry']['location']['lng']} for r in restaurants]\n",
        "\n",
        "    # Create an HTML map using the locations data\n",
        "    map_html = create_map(locations)\n",
        "\n",
        "    # Return the agent's output and the generated HTML map\n",
        "    return output, map_html\n",
        "\n",
        "def generate_itinerary(city_name: str, duration: int, kind: str, google_maps_api_key: str, open_ai_api_key: str):\n",
        "    # Create the input text for the agent to make an itinerary for the specified number of days in the city\n",
        "    input_text = f\"Faça um itinerário de {duration} dias em {city_name}, incluindo restaurantes {kind} e pontos de interesse.\"\n",
        "\n",
        "    # Set up the chat history with the user's query and the agent's response\n",
        "    chat_history = [\n",
        "      {\"role\": \"user\", \"content\": f\"Quais estabelecimentos {kind} eu posso visitar em {city_name}?\"},\n",
        "        {\"role\": \"assistant\", \"content\": find_restaurants(city_name, kind, google_maps_api_key, open_ai_api_key)[0]}\n",
        "    ]\n",
        "\n",
        "    # Invoke the agent executor with the input text and the updated chat history\n",
        "    result = agent_executor.invoke({\"input\": input_text, \"chat_history\": chat_history})\n",
        "\n",
        "    # Extract the output from the result\n",
        "    output = result['output']\n",
        "\n",
        "    # This function should realistically fetch data based on the agent's output\n",
        "    restaurants = get_restaurants_by_kind(google_maps_api_key, city_name, kind)\n",
        "\n",
        "    # Create a list of locations for the itinerary, limited by the duration\n",
        "    locations = [{'name': r['name'], 'lat': r['geometry']['location']['lat'], 'lng': r['geometry']['location']['lng']} for r in restaurants[:duration]]\n",
        "\n",
        "    # Create an HTML map with the route drawn using the locations data\n",
        "    map_html = create_map(locations, draw_route=True)\n",
        "\n",
        "    # Return the agent's output and the generated HTML map\n",
        "    return output, map_html\n",
        "    # Simulação da extração de coordenadas dos pontos do itinerário\n",
        "    restaurants = get_restaurants_by_kind(google_maps_api_key, city_name, kind)\n",
        "    locations = [{'name': r['name'], 'lat': r['geometry']['location']['lat'], 'lng': r['geometry']['location']['lng']} for r in restaurants[:duration]]\n",
        "\n",
        "    map_html = create_map(locations)\n",
        "    return output, map_html"
      ]
    },
    {
      "cell_type": "code",
      "execution_count": null,
      "metadata": {
        "colab": {
          "background_save": true,
          "base_uri": "https://localhost:8080/",
          "height": 1000
        },
        "id": "civ0BllCe8JB",
        "outputId": "89db24e3-4646-48b2-c104-8f66f0289782"
      },
      "outputs": [
        {
          "name": "stdout",
          "output_type": "stream",
          "text": [
            "Setting queue=True in a Colab notebook requires sharing enabled. Setting `share=True` (you can turn this off by setting `share=False` in `launch()` explicitly).\n",
            "\n",
            "Colab notebook detected. This cell will run indefinitely so that you can see errors and logs. To turn off, set debug=False in launch().\n",
            "Running on public URL: https://3e2f26bc0dd2eb8e7b.gradio.live\n",
            "\n",
            "This share link expires in 72 hours. For free permanent hosting and GPU upgrades, run `gradio deploy` from Terminal to deploy to Spaces (https://huggingface.co/spaces)\n"
          ]
        },
        {
          "data": {
            "text/html": [
              "<div><iframe src=\"https://3e2f26bc0dd2eb8e7b.gradio.live\" width=\"100%\" height=\"500\" allow=\"autoplay; camera; microphone; clipboard-read; clipboard-write;\" frameborder=\"0\" allowfullscreen></iframe></div>"
            ],
            "text/plain": [
              "<IPython.core.display.HTML object>"
            ]
          },
          "metadata": {},
          "output_type": "display_data"
        },
        {
          "name": "stdout",
          "output_type": "stream",
          "text": [
            "\n",
            "\n",
            "\u001b[1m> Entering new AgentExecutor chain...\u001b[0m\n",
            "\u001b[32;1m\u001b[1;3m\n",
            "Invoking: `find_restaurants_by_kind` with `{'city_name': 'São Paulo', 'kind': 'Mineira'}`\n",
            "\n",
            "\n",
            "\u001b[0m\u001b[36;1m\u001b[1;3m[{'name': 'Restaurante O Mineiro SP', 'address': 'R. Matias Aires, 74 - Consolação, São Paulo', 'lat': -23.5557986, 'lng': -46.65710929999999}, {'name': 'O Mineiro Prime', 'address': 'R. Antônio Carlos, 282 - Consolação, São Paulo', 'lat': -23.5567341, 'lng': -46.657581}, {'name': 'Gastronomia Mineira', 'address': 'R. Treze de Maio, 37 - Bela Vista, São Paulo', 'lat': -23.5533504, 'lng': -46.6468108}, {'name': 'Maria Mineira - Restaurante e Pizzaria', 'address': 'Rua Loefgren, 1031 - Vila Clementino, São Paulo', 'lat': -23.5997251, 'lng': -46.6355003}, {'name': 'Coração Mineiro', 'address': 'R. Frei Caneca, 569 - Consolação, São Paulo', 'lat': -23.5540742, 'lng': -46.6524994}, {'name': 'Restaurante Graça Mineira', 'address': 'Rua Machado Bitencourt, 75 - Vila Mariana, São Paulo', 'lat': -23.5979004, 'lng': -46.6381988}, {'name': 'Consulado Mineiro', 'address': 'Praça Benedito Calixto, 74 - Pinheiros, São Paulo', 'lat': -23.5585133, 'lng': -46.6802547}, {'name': 'Buteco de Minas', 'address': 'R. Matias Aires, 86 - Consolação, São Paulo', 'lat': -23.5556796, 'lng': -46.6572146}, {'name': 'CORAÇÃO MINEIRO', 'address': '3° Piso - Av. Antártica, 408 - Loja 4201B - Água Branca, São Paulo', 'lat': -23.5270793, 'lng': -46.6744673}, {'name': 'Minas Secrets', 'address': 'R. Bela Cintra, 919 - Consolação, São Paulo', 'lat': -23.5554095, 'lng': -46.6605533}, {'name': 'Restaurante Estância Mineira', 'address': 'R. Eduardo Chaves, 162 - Luz, São Paulo', 'lat': -23.5237841, 'lng': -46.62859359999999}, {'name': 'Gamela', 'address': 'R. Joaquim Távora, 1306 - Vila Mariana, São Paulo', 'lat': -23.5873666, 'lng': -46.6449554}, {'name': 'Restaurante Família Mineira', 'address': 'R. Manuel Guedes, 436 - Jardim Europa, São Paulo', 'lat': -23.5844162, 'lng': -46.6791884}, {'name': 'Chef Mineiro Bar e Restaurante', 'address': 'R. Matias Aires, 18 - Consolação, São Paulo', 'lat': -23.5561351, 'lng': -46.6568184}, {'name': 'Box Mineiro SP Centro', 'address': 'R. Santa Isabel, 21 - Vila Buarque, São Paulo', 'lat': -23.5428304, 'lng': -46.6456972}, {'name': 'Vila Mineira', 'address': 'Alameda Barão de Limeira, 987 - Campos Elíseos, São Paulo', 'lat': -23.5331768, 'lng': -46.64885}, {'name': 'Restaurante Casinha Mineira', 'address': 'R. São Carlos do Pinhal, 445 - Bela Vista, São Paulo', 'lat': -23.5639423, 'lng': -46.6517267}, {'name': 'Patrimônio de Minas', 'address': 'R. Humberto I, 163 - Vila Mariana, São Paulo', 'lat': -23.581605, 'lng': -46.6427234}, {'name': 'Restaurante Fazenda do Caipira', 'address': 'R. Amazonas da Silva, 21 - Vila Guilherme, São Paulo', 'lat': -23.5202949, 'lng': -46.6130995}, {'name': 'Sagrado Mineiro', 'address': 'R. Maj. Sertório, 82 - República, São Paulo', 'lat': -23.545418, 'lng': -46.644842}]\u001b[0m\u001b[32;1m\u001b[1;3mAqui estão alguns restaurantes Mineira em São Paulo:\n",
            "\n",
            "1. **Restaurante O Mineiro SP**\n",
            "   - Endereço: R. Matias Aires, 74 - Consolação, São Paulo\n",
            "\n",
            "2. **O Mineiro Prime**\n",
            "   - Endereço: R. Antônio Carlos, 282 - Consolação, São Paulo\n",
            "\n",
            "3. **Gastronomia Mineira**\n",
            "   - Endereço: R. Treze de Maio, 37 - Bela Vista, São Paulo\n",
            "\n",
            "4. **Maria Mineira - Restaurante e Pizzaria**\n",
            "   - Endereço: Rua Loefgren, 1031 - Vila Clementino, São Paulo\n",
            "\n",
            "5. **Coração Mineiro**\n",
            "   - Endereço: R. Frei Caneca, 569 - Consolação, São Paulo\n",
            "\n",
            "6. **Restaurante Graça Mineira**\n",
            "   - Endereço: Rua Machado Bitencourt, 75 - Vila Mariana, São Paulo\n",
            "\n",
            "7. **Consulado Mineiro**\n",
            "   - Endereço: Praça Benedito Calixto, 74 - Pinheiros, São Paulo\n",
            "\n",
            "8. **Buteco de Minas**\n",
            "   - Endereço: R. Matias Aires, 86 - Consolação, São Paulo\n",
            "\n",
            "9. **Minas Secrets**\n",
            "   - Endereço: R. Bela Cintra, 919 - Consolação, São Paulo\n",
            "\n",
            "10. **Restaurante Estância Mineira**\n",
            "    - Endereço: R. Eduardo Chaves, 162 - Luz, São Paulo\n",
            "\n",
            "Se precisar de mais informações ou recomendações, é só avisar!\u001b[0m\n",
            "\n",
            "\u001b[1m> Finished chain.\u001b[0m\n",
            "\n",
            "\n",
            "\u001b[1m> Entering new AgentExecutor chain...\u001b[0m\n",
            "\u001b[32;1m\u001b[1;3m\n",
            "Invoking: `find_restaurants_by_kind` with `{'city_name': 'Rio de Janeiro', 'kind': 'Nordestina'}`\n",
            "\n",
            "\n",
            "\u001b[0m\u001b[36;1m\u001b[1;3m[{'name': 'Botequim Arretado - Restaurante Comida Típica Nordestina', 'address': 'Av. Visconde do Rio Branco, 655 - Centro, Niterói', 'lat': -22.8966236, 'lng': -43.1266202}, {'name': 'Império nordestino oficial', 'address': 'Centro de tradições nordestinas Feira dos paraíbas - São Cristóvão, Rio de Janeiro', 'lat': -22.897794, 'lng': -43.220885}, {'name': 'Chico Nordestino - Feira de São Cristóvão', 'address': 'Campo de São Cristóvão, S/N - A-21 - São Cristóvão, Rio de Janeiro', 'lat': -22.8976029, 'lng': -43.2205236}, {'name': 'Seriguela - Boteco Nordestino - Flamengo', 'address': 'R. Dois de Dezembro, 77 - Flamengo, Rio de Janeiro', 'lat': -22.9299106, 'lng': -43.1769943}, {'name': 'Jerimum do Nordeste', 'address': 'Campo de São Cristóvão, 101 - São Cristóvão, Rio de Janeiro', 'lat': -22.8968458, 'lng': -43.2194598}, {'name': 'VIXI: UM NORDESTINO DESCOLADO', 'address': 'R. do Catete, 274 - LOJA E - Catete, Rio de Janeiro', 'lat': -22.9296105, 'lng': -43.17769759999999}, {'name': 'Princesa Nordestina', 'address': 'Espaço B52 Palco João do Vale - Campo de São Cristóvão, S/N - São Cristóvão, Rio de Janeiro', 'lat': -22.8972859, 'lng': -43.2193628}, {'name': 'Estação Baião de Dois', 'address': 'Campo de São Cristóvão - São Cristóvão, Rio de Janeiro', 'lat': -22.8972795, 'lng': -43.2198779}, {'name': 'Severyna', 'address': 'R. Ipiranga, 54 - Laranjeiras, Rio de Janeiro', 'lat': -22.9341081, 'lng': -43.1827366}, {'name': 'Barraca da Chiquita Restaurante - Feira de São Cristóvão', 'address': 'Avenida do Nordeste, s/n - São Cristóvão, Rio de Janeiro', 'lat': -22.8978138, 'lng': -43.22113239999999}, {'name': 'Cantinho do Nordeste', 'address': 'R. Sen. Alencar, 38 - loja C - São Cristóvão, Rio de Janeiro', 'lat': -22.8948048, 'lng': -43.22136889999999}, {'name': 'Bar e restaurante Tempero do Nordeste', 'address': 'Av. Nossa Sra. de Fátima, 86 - Centro, Rio de Janeiro', 'lat': -22.9173699, 'lng': -43.1884073}, {'name': 'Sabor Nordestino', 'address': 'R. Marechal Deodoro, 17a - Centro, Niterói', 'lat': -22.889933, 'lng': -43.123532}, {'name': 'Adega da Velha', 'address': 'R. Paulo Barreto, 25 - Botafogo, Rio de Janeiro', 'lat': -22.9527647, 'lng': -43.1872669}]\u001b[0m\u001b[32;1m\u001b[1;3mAqui estão alguns restaurantes Nordestinos no Rio de Janeiro:\n",
            "\n",
            "1. **Botequim Arretado - Restaurante Comida Típica Nordestina**\n",
            "   - Endereço: Av. Visconde do Rio Branco, 655 - Centro, Niterói\n",
            "\n",
            "2. **Império Nordestino Oficial**\n",
            "   - Endereço: Centro de tradições nordestinas Feira dos Paraíbas - São Cristóvão, Rio de Janeiro\n",
            "\n",
            "3. **Chico Nordestino - Feira de São Cristóvão**\n",
            "   - Endereço: Campo de São Cristóvão, S/N - A-21 - São Cristóvão, Rio de Janeiro\n",
            "\n",
            "4. **Seriguela - Boteco Nordestino - Flamengo**\n",
            "   - Endereço: R. Dois de Dezembro, 77 - Flamengo, Rio de Janeiro\n",
            "\n",
            "5. **Jerimum do Nordeste**\n",
            "   - Endereço: Campo de São Cristóvão, 101 - São Cristóvão, Rio de Janeiro\n",
            "\n",
            "6. **VIXI: UM NORDESTINO DESCOLADO**\n",
            "   - Endereço: R. do Catete, 274 - LOJA E - Catete, Rio de Janeiro\n",
            "\n",
            "7. **Princesa Nordestina**\n",
            "   - Endereço: Espaço B52 Palco João do Vale - Campo de São Cristóvão, S/N - São Cristóvão, Rio de Janeiro\n",
            "\n",
            "8. **Estação Baião de Dois**\n",
            "   - Endereço: Campo de São Cristóvão - São Cristóvão, Rio de Janeiro\n",
            "\n",
            "9. **Severyna**\n",
            "   - Endereço: R. Ipiranga, 54 - Laranjeiras, Rio de Janeiro\n",
            "\n",
            "10. **Barraca da Chiquita Restaurante - Feira de São Cristóvão**\n",
            "    - Endereço: Avenida do Nordeste, s/n - São Cristóvão, Rio de Janeiro\n",
            "\n",
            "11. **Cantinho do Nordeste**\n",
            "    - Endereço: R. Sen. Alencar, 38 - loja C - São Cristóvão, Rio de Janeiro\n",
            "\n",
            "12. **Bar e Restaurante Tempero do Nordeste**\n",
            "    - Endereço: Av. Nossa Sra. de Fátima, 86 - Centro, Rio de Janeiro\n",
            "\n",
            "13. **Sabor Nordestino**\n",
            "    - Endereço: R. Marechal Deodoro, 17a - Centro, Niterói\n",
            "\n",
            "14. **Adega da Velha**\n",
            "    - Endereço: R. Paulo Barreto, 25 - Botafogo, Rio de Janeiro\n",
            "\n",
            "Aproveite sua experiência gastronômica!\u001b[0m\n",
            "\n",
            "\u001b[1m> Finished chain.\u001b[0m\n",
            "\n",
            "\n",
            "\u001b[1m> Entering new AgentExecutor chain...\u001b[0m\n",
            "\u001b[32;1m\u001b[1;3mAqui está um itinerário de 5 dias no Rio de Janeiro, incluindo restaurantes Nordestinos e pontos de interesse:\n",
            "\n",
            "### Dia 1: Chegada e Exploração do Centro\n",
            "- **Manhã:** Chegada ao Rio de Janeiro e check-in no hotel.\n",
            "- **Almoço:** **Botequim Arretado** - Experimente pratos típicos nordestinos.\n",
            "- **Tarde:** Visite o **Museu de Arte do Rio (MAR)** e a **Praça Mauá**.\n",
            "- **Jantar:** **Império Nordestino Oficial** - Delicie-se com a culinária nordestina.\n",
            "\n",
            "### Dia 2: Cultura e História\n",
            "- **Manhã:** Visite o **Theatro Municipal** e a **Biblioteca Nacional**.\n",
            "- **Almoço:** **Chico Nordestino** na Feira de São Cristóvão - Aproveite a atmosfera cultural.\n",
            "- **Tarde:** Explore a **Feira de São Cristóvão** e suas lojas de artesanato.\n",
            "- **Jantar:** **Seriguela - Boteco Nordestino** - Experimente pratos autênticos.\n",
            "\n",
            "### Dia 3: Natureza e Praia\n",
            "- **Manhã:** Visite o **Parque Lage** e o **Jardim Botânico**.\n",
            "- **Almoço:** **Jerimum do Nordeste** - Saboreie a comida nordestina.\n",
            "- **Tarde:** Passeio pela **Praia de Ipanema** e relaxe na areia.\n",
            "- **Jantar:** **VIXI: UM NORDESTINO DESCOLADO** - Uma experiência moderna da culinária nordestina.\n",
            "\n",
            "### Dia 4: Pão de Açúcar e Cristo Redentor\n",
            "- **Manhã:** Visite o **Cristo Redentor** e aproveite a vista.\n",
            "- **Almoço:** **Barraca da Chiquita Restaurante** na Feira de São Cristóvão.\n",
            "- **Tarde:** Suba o **Pão de Açúcar** e desfrute da vista panorâmica.\n",
            "- **Jantar:** **Cantinho do Nordeste** - Experimente pratos típicos.\n",
            "\n",
            "### Dia 5: Últimos Passeios e Partida\n",
            "- **Manhã:** Visite o **Museu do Amanhã** e a **Praia do Flamengo**.\n",
            "- **Almoço:** **Sabor Nordestino** - Última refeição nordestina.\n",
            "- **Tarde:** Compras de souvenirs na **Rua do Ouvidor**.\n",
            "- **Jantar:** **Adega da Velha** - Desfrute de um jantar relaxante antes da partida.\n",
            "\n",
            "### Dicas Finais:\n",
            "- Reserve os restaurantes com antecedência, se possível.\n",
            "- Use transporte público ou aplicativos de transporte para facilitar a locomoção.\n",
            "- Aproveite a cultura local e interaja com os moradores.\n",
            "\n",
            "Divirta-se no Rio de Janeiro!\u001b[0m\n",
            "\n",
            "\u001b[1m> Finished chain.\u001b[0m\n",
            "\n",
            "\n",
            "\u001b[1m> Entering new AgentExecutor chain...\u001b[0m\n",
            "\u001b[32;1m\u001b[1;3m\n",
            "Invoking: `find_restaurants_by_kind` with `{'city_name': 'Madri', 'kind': 'Brasileira'}`\n",
            "\n",
            "\n",
            "\u001b[0m"
          ]
        },
        {
          "name": "stderr",
          "output_type": "stream",
          "text": [
            "Traceback (most recent call last):\n",
            "  File \"/usr/local/lib/python3.10/dist-packages/gradio/queueing.py\", line 536, in process_events\n",
            "    response = await route_utils.call_process_api(\n",
            "  File \"/usr/local/lib/python3.10/dist-packages/gradio/route_utils.py\", line 321, in call_process_api\n",
            "    output = await app.get_blocks().process_api(\n",
            "  File \"/usr/local/lib/python3.10/dist-packages/gradio/blocks.py\", line 1935, in process_api\n",
            "    result = await self.call_function(\n",
            "  File \"/usr/local/lib/python3.10/dist-packages/gradio/blocks.py\", line 1520, in call_function\n",
            "    prediction = await anyio.to_thread.run_sync(  # type: ignore\n",
            "  File \"/usr/local/lib/python3.10/dist-packages/anyio/to_thread.py\", line 33, in run_sync\n",
            "    return await get_asynclib().run_sync_in_worker_thread(\n",
            "  File \"/usr/local/lib/python3.10/dist-packages/anyio/_backends/_asyncio.py\", line 877, in run_sync_in_worker_thread\n",
            "    return await future\n",
            "  File \"/usr/local/lib/python3.10/dist-packages/anyio/_backends/_asyncio.py\", line 807, in run\n",
            "    result = context.run(func, *args)\n",
            "  File \"/usr/local/lib/python3.10/dist-packages/gradio/utils.py\", line 826, in wrapper\n",
            "    response = f(*args, **kwargs)\n",
            "  File \"<ipython-input-15-6041c0035302>\", line 19, in <lambda>\n",
            "    fn=lambda city_name, kind: find_restaurants(city_name, kind, google_maps_api_key, open_ai_api_key),\n",
            "  File \"<ipython-input-14-799b4fa74811>\", line 8, in find_restaurants\n",
            "    result = agent_executor.invoke({\"input\": input_text, \"chat_history\": []})\n",
            "  File \"/usr/local/lib/python3.10/dist-packages/langchain/chains/base.py\", line 164, in invoke\n",
            "    raise e\n",
            "  File \"/usr/local/lib/python3.10/dist-packages/langchain/chains/base.py\", line 154, in invoke\n",
            "    self._call(inputs, run_manager=run_manager)\n",
            "  File \"/usr/local/lib/python3.10/dist-packages/langchain/agents/agent.py\", line 1625, in _call\n",
            "    next_step_output = self._take_next_step(\n",
            "  File \"/usr/local/lib/python3.10/dist-packages/langchain/agents/agent.py\", line 1331, in _take_next_step\n",
            "    [\n",
            "  File \"/usr/local/lib/python3.10/dist-packages/langchain/agents/agent.py\", line 1331, in <listcomp>\n",
            "    [\n",
            "  File \"/usr/local/lib/python3.10/dist-packages/langchain/agents/agent.py\", line 1416, in _iter_next_step\n",
            "    yield self._perform_agent_action(\n",
            "  File \"/usr/local/lib/python3.10/dist-packages/langchain/agents/agent.py\", line 1438, in _perform_agent_action\n",
            "    observation = tool.run(\n",
            "  File \"/usr/local/lib/python3.10/dist-packages/langchain_core/tools/base.py\", line 586, in run\n",
            "    raise error_to_raise\n",
            "  File \"/usr/local/lib/python3.10/dist-packages/langchain_core/tools/base.py\", line 555, in run\n",
            "    response = context.run(self._run, *tool_args, **tool_kwargs)\n",
            "  File \"/usr/local/lib/python3.10/dist-packages/langchain_core/tools/structured.py\", line 69, in _run\n",
            "    return self.func(*args, **kwargs)\n",
            "  File \"<ipython-input-8-0e1254848101>\", line 15, in find_restaurants_by_kind\n",
            "    restaurants = get_restaurants_by_kind(google_maps_api_key, city_name, kind)\n",
            "  File \"<ipython-input-7-3893e2516ed8>\", line 18, in get_restaurants_by_kind\n",
            "    lat, lng = get_coordinates(google_maps_api_key, city_name)\n",
            "  File \"<ipython-input-7-3893e2516ed8>\", line 12, in get_coordinates\n",
            "    raise ValueError(f\"City name '{city_name}' not found.\")\n",
            "ValueError: City name 'Madri' not found.\n"
          ]
        },
        {
          "name": "stdout",
          "output_type": "stream",
          "text": [
            "\n",
            "\n",
            "\u001b[1m> Entering new AgentExecutor chain...\u001b[0m\n",
            "\u001b[32;1m\u001b[1;3m\n",
            "Invoking: `find_restaurants_by_kind` with `{'city_name': 'Madri', 'kind': 'Brasileira'}`\n",
            "\n",
            "\n",
            "\u001b[0m"
          ]
        },
        {
          "name": "stderr",
          "output_type": "stream",
          "text": [
            "Traceback (most recent call last):\n",
            "  File \"/usr/local/lib/python3.10/dist-packages/gradio/queueing.py\", line 536, in process_events\n",
            "    response = await route_utils.call_process_api(\n",
            "  File \"/usr/local/lib/python3.10/dist-packages/gradio/route_utils.py\", line 321, in call_process_api\n",
            "    output = await app.get_blocks().process_api(\n",
            "  File \"/usr/local/lib/python3.10/dist-packages/gradio/blocks.py\", line 1935, in process_api\n",
            "    result = await self.call_function(\n",
            "  File \"/usr/local/lib/python3.10/dist-packages/gradio/blocks.py\", line 1520, in call_function\n",
            "    prediction = await anyio.to_thread.run_sync(  # type: ignore\n",
            "  File \"/usr/local/lib/python3.10/dist-packages/anyio/to_thread.py\", line 33, in run_sync\n",
            "    return await get_asynclib().run_sync_in_worker_thread(\n",
            "  File \"/usr/local/lib/python3.10/dist-packages/anyio/_backends/_asyncio.py\", line 877, in run_sync_in_worker_thread\n",
            "    return await future\n",
            "  File \"/usr/local/lib/python3.10/dist-packages/anyio/_backends/_asyncio.py\", line 807, in run\n",
            "    result = context.run(func, *args)\n",
            "  File \"/usr/local/lib/python3.10/dist-packages/gradio/utils.py\", line 826, in wrapper\n",
            "    response = f(*args, **kwargs)\n",
            "  File \"<ipython-input-15-6041c0035302>\", line 19, in <lambda>\n",
            "    fn=lambda city_name, kind: find_restaurants(city_name, kind, google_maps_api_key, open_ai_api_key),\n",
            "  File \"<ipython-input-14-799b4fa74811>\", line 8, in find_restaurants\n",
            "    result = agent_executor.invoke({\"input\": input_text, \"chat_history\": []})\n",
            "  File \"/usr/local/lib/python3.10/dist-packages/langchain/chains/base.py\", line 164, in invoke\n",
            "    raise e\n",
            "  File \"/usr/local/lib/python3.10/dist-packages/langchain/chains/base.py\", line 154, in invoke\n",
            "    self._call(inputs, run_manager=run_manager)\n",
            "  File \"/usr/local/lib/python3.10/dist-packages/langchain/agents/agent.py\", line 1625, in _call\n",
            "    next_step_output = self._take_next_step(\n",
            "  File \"/usr/local/lib/python3.10/dist-packages/langchain/agents/agent.py\", line 1331, in _take_next_step\n",
            "    [\n",
            "  File \"/usr/local/lib/python3.10/dist-packages/langchain/agents/agent.py\", line 1331, in <listcomp>\n",
            "    [\n",
            "  File \"/usr/local/lib/python3.10/dist-packages/langchain/agents/agent.py\", line 1416, in _iter_next_step\n",
            "    yield self._perform_agent_action(\n",
            "  File \"/usr/local/lib/python3.10/dist-packages/langchain/agents/agent.py\", line 1438, in _perform_agent_action\n",
            "    observation = tool.run(\n",
            "  File \"/usr/local/lib/python3.10/dist-packages/langchain_core/tools/base.py\", line 586, in run\n",
            "    raise error_to_raise\n",
            "  File \"/usr/local/lib/python3.10/dist-packages/langchain_core/tools/base.py\", line 555, in run\n",
            "    response = context.run(self._run, *tool_args, **tool_kwargs)\n",
            "  File \"/usr/local/lib/python3.10/dist-packages/langchain_core/tools/structured.py\", line 69, in _run\n",
            "    return self.func(*args, **kwargs)\n",
            "  File \"<ipython-input-8-0e1254848101>\", line 15, in find_restaurants_by_kind\n",
            "    restaurants = get_restaurants_by_kind(google_maps_api_key, city_name, kind)\n",
            "  File \"<ipython-input-7-3893e2516ed8>\", line 18, in get_restaurants_by_kind\n",
            "    lat, lng = get_coordinates(google_maps_api_key, city_name)\n",
            "  File \"<ipython-input-7-3893e2516ed8>\", line 12, in get_coordinates\n",
            "    raise ValueError(f\"City name '{city_name}' not found.\")\n",
            "ValueError: City name 'Madri' not found.\n"
          ]
        },
        {
          "name": "stdout",
          "output_type": "stream",
          "text": [
            "\n",
            "\n",
            "\u001b[1m> Entering new AgentExecutor chain...\u001b[0m\n",
            "\u001b[32;1m\u001b[1;3m\n",
            "Invoking: `find_restaurants_by_kind` with `{'city_name': 'Madrid', 'kind': 'Brasileira'}`\n",
            "\n",
            "\n",
            "\u001b[0m\u001b[36;1m\u001b[1;3m[{'name': 'Sabor Brasil', 'address': 'C. de Edgar Neville, 8, Madrid', 'lat': 40.4473899, 'lng': -3.6968504}, {'name': 'Rodizio brasileño', 'address': 'C. de Linneo, 18, Madrid', 'lat': 40.4121805, 'lng': -3.7206708}, {'name': 'Tapioquería', 'address': 'C. de la Fe, 1, Madrid', 'lat': 40.4091149, 'lng': -3.7008115}, {'name': 'Sabor Gaucho', 'address': 'C. de Orense, 83, Madrid', 'lat': 40.4600287, 'lng': -3.6944643}, {'name': 'Restaurante Brasayleña Plaza Mayor', 'address': 'Pl. del Comandante las Morenas, 3, Madrid', 'lat': 40.4162426, 'lng': -3.7088282}, {'name': 'Le Blend - Gastrobar y Cocina Fusión', 'address': 'P.º de la Castellana, 129, Local D, Madrid', 'lat': 40.458346, 'lng': -3.691439099999999}, {'name': 'Comida Brasileña Esfihate Madrid', 'address': 'Disponible parking subterráneo del Hipercor, C. de Castrojeriz, 7A - Planta Baja - Local 43 Mercado, Madrid', 'lat': 40.3869694, 'lng': -3.7391147}, {'name': 'O Boteco Brasil', 'address': 'Av. de Filipinas, 26, Madrid', 'lat': 40.4403428, 'lng': -3.7088324}, {'name': 'Katia comida brasilena', 'address': 'C. de la Torrecilla del Leal, 29, Madrid', 'lat': 40.4099751, 'lng': -3.6989466}, {'name': 'Tempero de Voinha', 'address': 'C. de Blasco de Garay, 34, Madrid', 'lat': 40.4325671, 'lng': -3.7113871}, {'name': '+ Q Delicia', 'address': 'C. Julio Antonio, 4, Madrid', 'lat': 40.38299960000001, 'lng': -3.7305308}, {'name': 'Tropicalista GastroBar | Brasileño en Madrid', 'address': 'C. de la Ballesta, 2, Madrid', 'lat': 40.4211143, 'lng': -3.703580799999999}, {'name': 'Churrascarías Brazilian Steakhouse', 'address': 'Madrid', 'lat': 40.41625639999999, 'lng': -3.708828499999999}, {'name': 'Ludcake', 'address': 'Av. de Moratalaz, 126, Madrid', 'lat': 40.4059272, 'lng': -3.6473147}, {'name': 'VENDER PROINDIVISO MADRID COMPRA PROINDIVISOS MADRID', 'address': 'C. de Alcalá, 100, Madrid', 'lat': 40.4250397, 'lng': -3.674672699999999}, {'name': 'AMAZONIA AÇAI CHAMBERÍ', 'address': 'C. de Eloy Gonzalo, 25, Madrid', 'lat': 40.4346144, 'lng': -3.7006501}]\u001b[0m\u001b[32;1m\u001b[1;3mAqui estão alguns restaurantes brasileiros em Madrid, Espanha:\n",
            "\n",
            "1. **Sabor Brasil**\n",
            "   - Endereço: C. de Edgar Neville, 8, Madrid\n",
            "\n",
            "2. **Rodizio brasileño**\n",
            "   - Endereço: C. de Linneo, 18, Madrid\n",
            "\n",
            "3. **Tapioquería**\n",
            "   - Endereço: C. de la Fe, 1, Madrid\n",
            "\n",
            "4. **Sabor Gaucho**\n",
            "   - Endereço: C. de Orense, 83, Madrid\n",
            "\n",
            "5. **Restaurante Brasayleña Plaza Mayor**\n",
            "   - Endereço: Pl. del Comandante las Morenas, 3, Madrid\n",
            "\n",
            "6. **Le Blend - Gastrobar y Cocina Fusión**\n",
            "   - Endereço: P.º de la Castellana, 129, Local D, Madrid\n",
            "\n",
            "7. **Comida Brasileña Esfihate Madrid**\n",
            "   - Endereço: C. de Castrojeriz, 7A - Planta Baja - Local 43 Mercado, Madrid\n",
            "\n",
            "8. **O Boteco Brasil**\n",
            "   - Endereço: Av. de Filipinas, 26, Madrid\n",
            "\n",
            "9. **Katia comida brasilena**\n",
            "   - Endereço: C. de la Torrecilla del Leal, 29, Madrid\n",
            "\n",
            "10. **Tempero de Voinha**\n",
            "    - Endereço: C. de Blasco de Garay, 34, Madrid\n",
            "\n",
            "Se precisar de mais informações ou ajuda, é só avisar!\u001b[0m\n",
            "\n",
            "\u001b[1m> Finished chain.\u001b[0m\n"
          ]
        }
      ],
      "source": [
        "#Etapa 7: Construindo a Interface Gradio\n",
        "import gradio as gr\n",
        "\n",
        "# Defining Gradio components for the first tab\n",
        "city_input_tab1 = gr.Textbox(label=\"Cidade\", placeholder=\"Escreva o nome da cidade\")\n",
        "kind_tab1 = gr.Textbox(label=\"Tipo de restaurante\", placeholder=\"Escreva um tipo de restaurante\")\n",
        "restaurants_output = gr.Textbox(label=\"Restaurantes\")\n",
        "restaurants_map = gr.HTML(label=\"Map\")\n",
        "\n",
        "# Defining Gradio components for the second tab\n",
        "city_input_tab2 = gr.Textbox(label=\"Cidade\", placeholder=\"Escreva o nome da cidade\")\n",
        "kind_tab2 = gr.Textbox(label=\"Tipo de restaurante\", placeholder=\"Escreva um tipo de restaurante\")\n",
        "days_input = gr.Slider(label=\"Número de dias\", minimum=1, maximum=10, step=1, value=5)\n",
        "itinerary_output = gr.Textbox(label=\"Itinerário\")\n",
        "itinerary_map = gr.HTML(label=\"Map\")\n",
        "\n",
        "# Creating the Gradio interface with tabs\n",
        "tab1 = gr.Interface(\n",
        "    fn=lambda city_name, kind: find_restaurants(city_name, kind, google_maps_api_key, open_ai_api_key),\n",
        "    inputs=[city_input_tab1, kind_tab1],\n",
        "    outputs=[restaurants_output, restaurants_map],\n",
        "    live=False\n",
        ")\n",
        "\n",
        "tab2 = gr.Interface(\n",
        "    fn=lambda city_name, duration, kind: generate_itinerary(city_name, duration, kind, google_maps_api_key, open_ai_api_key),\n",
        "    inputs=[city_input_tab2, days_input, kind_tab2],\n",
        "    outputs=[itinerary_output, itinerary_map]\n",
        ")\n",
        "\n",
        "iface = gr.TabbedInterface([tab1, tab2], [\"Encontre restaurantes\", \"Gerar itinerário\"])\n",
        "\n",
        "iface.launch(debug=True)"
      ]
    }
  ],
  "metadata": {
    "colab": {
      "provenance": [],
      "include_colab_link": true
    },
    "kernelspec": {
      "display_name": "Python 3",
      "name": "python3"
    }
  },
  "nbformat": 4,
  "nbformat_minor": 0
}